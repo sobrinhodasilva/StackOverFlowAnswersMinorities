{
 "cells": [
  {
   "cell_type": "markdown",
   "metadata": {},
   "source": [
    "# Stack Overflow Annual Developer Survey 2020\n",
    "## Analyse Minorities Answers \n",
    "\n",
    "\n",
    "This is a project 1 from Udacity Data Scients Nanodegree, the gol is to find out about this questions:\n",
    "\n",
    "\n",
    "* How minorities breaks IT fields \n",
    "* Company values, size and Job satisfaction \n",
    "* On-boarding Process, Job Hunt Factors\n",
    "\n",
    "Data Source: [https://insights.stackoverflow.com/survey/]\n"
   ]
  },
  {
   "cell_type": "code",
   "execution_count": null,
   "metadata": {},
   "outputs": [],
   "source": [
    "d"
   ]
  },
  {
   "cell_type": "code",
   "execution_count": 3,
   "metadata": {},
   "outputs": [
    {
     "data": {
      "text/html": [
       "<div>\n",
       "<style scoped>\n",
       "    .dataframe tbody tr th:only-of-type {\n",
       "        vertical-align: middle;\n",
       "    }\n",
       "\n",
       "    .dataframe tbody tr th {\n",
       "        vertical-align: top;\n",
       "    }\n",
       "\n",
       "    .dataframe thead th {\n",
       "        text-align: right;\n",
       "    }\n",
       "</style>\n",
       "<table border=\"1\" class=\"dataframe\">\n",
       "  <thead>\n",
       "    <tr style=\"text-align: right;\">\n",
       "      <th></th>\n",
       "      <th>Respondent</th>\n",
       "      <th>MainBranch</th>\n",
       "      <th>Hobbyist</th>\n",
       "      <th>Age</th>\n",
       "      <th>Age1stCode</th>\n",
       "      <th>CompFreq</th>\n",
       "      <th>CompTotal</th>\n",
       "      <th>ConvertedComp</th>\n",
       "      <th>Country</th>\n",
       "      <th>CurrencyDesc</th>\n",
       "      <th>...</th>\n",
       "      <th>SurveyEase</th>\n",
       "      <th>SurveyLength</th>\n",
       "      <th>Trans</th>\n",
       "      <th>UndergradMajor</th>\n",
       "      <th>WebframeDesireNextYear</th>\n",
       "      <th>WebframeWorkedWith</th>\n",
       "      <th>WelcomeChange</th>\n",
       "      <th>WorkWeekHrs</th>\n",
       "      <th>YearsCode</th>\n",
       "      <th>YearsCodePro</th>\n",
       "    </tr>\n",
       "  </thead>\n",
       "  <tbody>\n",
       "    <tr>\n",
       "      <th>0</th>\n",
       "      <td>1</td>\n",
       "      <td>I am a developer by profession</td>\n",
       "      <td>Yes</td>\n",
       "      <td>NaN</td>\n",
       "      <td>13</td>\n",
       "      <td>Monthly</td>\n",
       "      <td>NaN</td>\n",
       "      <td>NaN</td>\n",
       "      <td>Germany</td>\n",
       "      <td>European Euro</td>\n",
       "      <td>...</td>\n",
       "      <td>Neither easy nor difficult</td>\n",
       "      <td>Appropriate in length</td>\n",
       "      <td>No</td>\n",
       "      <td>Computer science, computer engineering, or sof...</td>\n",
       "      <td>ASP.NET Core</td>\n",
       "      <td>ASP.NET;ASP.NET Core</td>\n",
       "      <td>Just as welcome now as I felt last year</td>\n",
       "      <td>50.0</td>\n",
       "      <td>36</td>\n",
       "      <td>27</td>\n",
       "    </tr>\n",
       "    <tr>\n",
       "      <th>1</th>\n",
       "      <td>2</td>\n",
       "      <td>I am a developer by profession</td>\n",
       "      <td>No</td>\n",
       "      <td>NaN</td>\n",
       "      <td>19</td>\n",
       "      <td>NaN</td>\n",
       "      <td>NaN</td>\n",
       "      <td>NaN</td>\n",
       "      <td>United Kingdom</td>\n",
       "      <td>Pound sterling</td>\n",
       "      <td>...</td>\n",
       "      <td>NaN</td>\n",
       "      <td>NaN</td>\n",
       "      <td>NaN</td>\n",
       "      <td>Computer science, computer engineering, or sof...</td>\n",
       "      <td>NaN</td>\n",
       "      <td>NaN</td>\n",
       "      <td>Somewhat more welcome now than last year</td>\n",
       "      <td>NaN</td>\n",
       "      <td>7</td>\n",
       "      <td>4</td>\n",
       "    </tr>\n",
       "    <tr>\n",
       "      <th>2</th>\n",
       "      <td>3</td>\n",
       "      <td>I code primarily as a hobby</td>\n",
       "      <td>Yes</td>\n",
       "      <td>NaN</td>\n",
       "      <td>15</td>\n",
       "      <td>NaN</td>\n",
       "      <td>NaN</td>\n",
       "      <td>NaN</td>\n",
       "      <td>Russian Federation</td>\n",
       "      <td>NaN</td>\n",
       "      <td>...</td>\n",
       "      <td>Neither easy nor difficult</td>\n",
       "      <td>Appropriate in length</td>\n",
       "      <td>NaN</td>\n",
       "      <td>NaN</td>\n",
       "      <td>NaN</td>\n",
       "      <td>NaN</td>\n",
       "      <td>Somewhat more welcome now than last year</td>\n",
       "      <td>NaN</td>\n",
       "      <td>4</td>\n",
       "      <td>NaN</td>\n",
       "    </tr>\n",
       "    <tr>\n",
       "      <th>3</th>\n",
       "      <td>4</td>\n",
       "      <td>I am a developer by profession</td>\n",
       "      <td>Yes</td>\n",
       "      <td>25.0</td>\n",
       "      <td>18</td>\n",
       "      <td>NaN</td>\n",
       "      <td>NaN</td>\n",
       "      <td>NaN</td>\n",
       "      <td>Albania</td>\n",
       "      <td>Albanian lek</td>\n",
       "      <td>...</td>\n",
       "      <td>NaN</td>\n",
       "      <td>NaN</td>\n",
       "      <td>No</td>\n",
       "      <td>Computer science, computer engineering, or sof...</td>\n",
       "      <td>NaN</td>\n",
       "      <td>NaN</td>\n",
       "      <td>Somewhat less welcome now than last year</td>\n",
       "      <td>40.0</td>\n",
       "      <td>7</td>\n",
       "      <td>4</td>\n",
       "    </tr>\n",
       "    <tr>\n",
       "      <th>4</th>\n",
       "      <td>5</td>\n",
       "      <td>I used to be a developer by profession, but no...</td>\n",
       "      <td>Yes</td>\n",
       "      <td>31.0</td>\n",
       "      <td>16</td>\n",
       "      <td>NaN</td>\n",
       "      <td>NaN</td>\n",
       "      <td>NaN</td>\n",
       "      <td>United States</td>\n",
       "      <td>NaN</td>\n",
       "      <td>...</td>\n",
       "      <td>Easy</td>\n",
       "      <td>Too short</td>\n",
       "      <td>No</td>\n",
       "      <td>Computer science, computer engineering, or sof...</td>\n",
       "      <td>Django;Ruby on Rails</td>\n",
       "      <td>Ruby on Rails</td>\n",
       "      <td>Just as welcome now as I felt last year</td>\n",
       "      <td>NaN</td>\n",
       "      <td>15</td>\n",
       "      <td>8</td>\n",
       "    </tr>\n",
       "  </tbody>\n",
       "</table>\n",
       "<p>5 rows × 61 columns</p>\n",
       "</div>"
      ],
      "text/plain": [
       "   Respondent                                         MainBranch Hobbyist  \\\n",
       "0           1                     I am a developer by profession      Yes   \n",
       "1           2                     I am a developer by profession       No   \n",
       "2           3                        I code primarily as a hobby      Yes   \n",
       "3           4                     I am a developer by profession      Yes   \n",
       "4           5  I used to be a developer by profession, but no...      Yes   \n",
       "\n",
       "    Age Age1stCode CompFreq  CompTotal  ConvertedComp             Country  \\\n",
       "0   NaN         13  Monthly        NaN            NaN             Germany   \n",
       "1   NaN         19      NaN        NaN            NaN      United Kingdom   \n",
       "2   NaN         15      NaN        NaN            NaN  Russian Federation   \n",
       "3  25.0         18      NaN        NaN            NaN             Albania   \n",
       "4  31.0         16      NaN        NaN            NaN       United States   \n",
       "\n",
       "     CurrencyDesc  ...                  SurveyEase           SurveyLength  \\\n",
       "0   European Euro  ...  Neither easy nor difficult  Appropriate in length   \n",
       "1  Pound sterling  ...                         NaN                    NaN   \n",
       "2             NaN  ...  Neither easy nor difficult  Appropriate in length   \n",
       "3    Albanian lek  ...                         NaN                    NaN   \n",
       "4             NaN  ...                        Easy              Too short   \n",
       "\n",
       "  Trans                                     UndergradMajor  \\\n",
       "0    No  Computer science, computer engineering, or sof...   \n",
       "1   NaN  Computer science, computer engineering, or sof...   \n",
       "2   NaN                                                NaN   \n",
       "3    No  Computer science, computer engineering, or sof...   \n",
       "4    No  Computer science, computer engineering, or sof...   \n",
       "\n",
       "  WebframeDesireNextYear    WebframeWorkedWith  \\\n",
       "0           ASP.NET Core  ASP.NET;ASP.NET Core   \n",
       "1                    NaN                   NaN   \n",
       "2                    NaN                   NaN   \n",
       "3                    NaN                   NaN   \n",
       "4   Django;Ruby on Rails         Ruby on Rails   \n",
       "\n",
       "                              WelcomeChange WorkWeekHrs YearsCode YearsCodePro  \n",
       "0   Just as welcome now as I felt last year        50.0        36           27  \n",
       "1  Somewhat more welcome now than last year         NaN         7            4  \n",
       "2  Somewhat more welcome now than last year         NaN         4          NaN  \n",
       "3  Somewhat less welcome now than last year        40.0         7            4  \n",
       "4   Just as welcome now as I felt last year         NaN        15            8  \n",
       "\n",
       "[5 rows x 61 columns]"
      ]
     },
     "execution_count": 3,
     "metadata": {},
     "output_type": "execute_result"
    }
   ],
   "source": [
    "import numpy as np\n",
    "import pandas as pd\n",
    "import matplotlib.pyplot as plt\n",
    "from sklearn.linear_model import LinearRegression\n",
    "from sklearn.model_selection import train_test_split\n",
    "from sklearn.metrics import r2_score, mean_squared_error\n",
    "import seaborn as sns\n",
    "%matplotlib inline\n",
    "\n",
    "df = pd.read_csv('./developer_survey_2020/survey_results_public.csv')\n",
    "df.head()"
   ]
  },
  {
   "cell_type": "code",
   "execution_count": 16,
   "metadata": {},
   "outputs": [
    {
     "data": {
      "text/html": [
       "<div>\n",
       "<style scoped>\n",
       "    .dataframe tbody tr th:only-of-type {\n",
       "        vertical-align: middle;\n",
       "    }\n",
       "\n",
       "    .dataframe tbody tr th {\n",
       "        vertical-align: top;\n",
       "    }\n",
       "\n",
       "    .dataframe thead th {\n",
       "        text-align: right;\n",
       "    }\n",
       "</style>\n",
       "<table border=\"1\" class=\"dataframe\">\n",
       "  <thead>\n",
       "    <tr style=\"text-align: right;\">\n",
       "      <th></th>\n",
       "      <th>Column</th>\n",
       "      <th>QuestionText</th>\n",
       "    </tr>\n",
       "  </thead>\n",
       "  <tbody>\n",
       "    <tr>\n",
       "      <th>0</th>\n",
       "      <td>Respondent</td>\n",
       "      <td>Randomized respondent ID number (not in order ...</td>\n",
       "    </tr>\n",
       "    <tr>\n",
       "      <th>1</th>\n",
       "      <td>MainBranch</td>\n",
       "      <td>Which of the following options best describes ...</td>\n",
       "    </tr>\n",
       "    <tr>\n",
       "      <th>2</th>\n",
       "      <td>Hobbyist</td>\n",
       "      <td>Do you code as a hobby?</td>\n",
       "    </tr>\n",
       "    <tr>\n",
       "      <th>3</th>\n",
       "      <td>Age</td>\n",
       "      <td>What is your age (in years)? If you prefer not...</td>\n",
       "    </tr>\n",
       "    <tr>\n",
       "      <th>4</th>\n",
       "      <td>Age1stCode</td>\n",
       "      <td>At what age did you write your first line of c...</td>\n",
       "    </tr>\n",
       "    <tr>\n",
       "      <th>...</th>\n",
       "      <td>...</td>\n",
       "      <td>...</td>\n",
       "    </tr>\n",
       "    <tr>\n",
       "      <th>56</th>\n",
       "      <td>WebframeWorkedWith</td>\n",
       "      <td>Which web frameworks have you done extensive d...</td>\n",
       "    </tr>\n",
       "    <tr>\n",
       "      <th>57</th>\n",
       "      <td>WelcomeChange</td>\n",
       "      <td>Compared to last year, how welcome do you feel...</td>\n",
       "    </tr>\n",
       "    <tr>\n",
       "      <th>58</th>\n",
       "      <td>WorkWeekHrs</td>\n",
       "      <td>On average, how many hours per week do you wor...</td>\n",
       "    </tr>\n",
       "    <tr>\n",
       "      <th>59</th>\n",
       "      <td>YearsCode</td>\n",
       "      <td>Including any education, how many years have y...</td>\n",
       "    </tr>\n",
       "    <tr>\n",
       "      <th>60</th>\n",
       "      <td>YearsCodePro</td>\n",
       "      <td>NOT including education, how many years have y...</td>\n",
       "    </tr>\n",
       "  </tbody>\n",
       "</table>\n",
       "<p>61 rows × 2 columns</p>\n",
       "</div>"
      ],
      "text/plain": [
       "                Column                                       QuestionText\n",
       "0           Respondent  Randomized respondent ID number (not in order ...\n",
       "1           MainBranch  Which of the following options best describes ...\n",
       "2             Hobbyist                            Do you code as a hobby?\n",
       "3                  Age  What is your age (in years)? If you prefer not...\n",
       "4           Age1stCode  At what age did you write your first line of c...\n",
       "..                 ...                                                ...\n",
       "56  WebframeWorkedWith  Which web frameworks have you done extensive d...\n",
       "57       WelcomeChange  Compared to last year, how welcome do you feel...\n",
       "58         WorkWeekHrs  On average, how many hours per week do you wor...\n",
       "59           YearsCode  Including any education, how many years have y...\n",
       "60        YearsCodePro  NOT including education, how many years have y...\n",
       "\n",
       "[61 rows x 2 columns]"
      ]
     },
     "execution_count": 16,
     "metadata": {},
     "output_type": "execute_result"
    }
   ],
   "source": [
    "schema = pd.read_csv('./developer_survey_2020/survey_results_schema.csv')\n",
    "schema"
   ]
  },
  {
   "cell_type": "code",
   "execution_count": 49,
   "metadata": {},
   "outputs": [
    {
     "data": {
      "text/html": [
       "<div>\n",
       "<style scoped>\n",
       "    .dataframe tbody tr th:only-of-type {\n",
       "        vertical-align: middle;\n",
       "    }\n",
       "\n",
       "    .dataframe tbody tr th {\n",
       "        vertical-align: top;\n",
       "    }\n",
       "\n",
       "    .dataframe thead th {\n",
       "        text-align: right;\n",
       "    }\n",
       "</style>\n",
       "<table border=\"1\" class=\"dataframe\">\n",
       "  <thead>\n",
       "    <tr style=\"text-align: right;\">\n",
       "      <th></th>\n",
       "      <th>Column</th>\n",
       "      <th>QuestionText</th>\n",
       "    </tr>\n",
       "  </thead>\n",
       "  <tbody>\n",
       "    <tr>\n",
       "      <th>16</th>\n",
       "      <td>Ethnicity</td>\n",
       "      <td>Which of the following describe you, if any? P...</td>\n",
       "    </tr>\n",
       "  </tbody>\n",
       "</table>\n",
       "</div>"
      ],
      "text/plain": [
       "       Column                                       QuestionText\n",
       "16  Ethnicity  Which of the following describe you, if any? P..."
      ]
     },
     "execution_count": 49,
     "metadata": {},
     "output_type": "execute_result"
    }
   ],
   "source": [
    "schema[schema[\"Column\"].str.contains(\"Ethni\")]"
   ]
  },
  {
   "cell_type": "code",
   "execution_count": 53,
   "metadata": {},
   "outputs": [
    {
     "data": {
      "text/plain": [
       "Country                           Ethnicity                                                                                                                                                                                                                                    Gender                                               \n",
       "Liechtenstein                     White or of European descent                                                                                                                                                                                                                 Man                                                      1\n",
       "Lesotho                           Black or of African descent                                                                                                                                                                                                                  Man                                                      1\n",
       "Lebanon                           Middle Eastern;Multiracial                                                                                                                                                                                                                   Man                                                      1\n",
       "                                  Black or of African descent;White or of European descent;Biracial                                                                                                                                                                            Man                                                      1\n",
       "Latvia                            White or of European descent;Multiracial                                                                                                                                                                                                     Man                                                      1\n",
       "Lao People's Democratic Republic  White or of European descent                                                                                                                                                                                                                 Man                                                      1\n",
       "                                  Southeast Asian                                                                                                                                                                                                                              Man                                                      1\n",
       "                                  South Asian                                                                                                                                                                                                                                  Non-binary, genderqueer, or gender non-conforming        1\n",
       "Jordan                            East Asian;Middle Eastern                                                                                                                                                                                                                    Man                                                      1\n",
       "                                  East Asian                                                                                                                                                                                                                                   Man                                                      1\n",
       "Japan                             White or of European descent                                                                                                                                                                                                                 Woman                                                    1\n",
       "                                                                                                                                                                                                                                                                               Non-binary, genderqueer, or gender non-conforming        1\n",
       "                                  Black or of African descent;East Asian;Hispanic or Latino/a/x                                                                                                                                                                                Man                                                      1\n",
       "Jamaica                           White or of European descent                                                                                                                                                                                                                 Man                                                      1\n",
       "                                  Black or of African descent;East Asian;Middle Eastern;White or of European descent;Biracial;Multiracial                                                                                                                                      Man                                                      1\n",
       "                                  Black or of African descent;East Asian;Hispanic or Latino/a/x;White or of European descent;Multiracial                                                                                                                                       Man                                                      1\n",
       "                                  Black or of African descent                                                                                                                                                                                                                  Woman                                                    1\n",
       "Italy                             White or of European descent;Multiracial                                                                                                                                                                                                     Man                                                      1\n",
       "                                  Southeast Asian                                                                                                                                                                                                                              Man                                                      1\n",
       "                                  Middle Eastern;White or of European descent                                                                                                                                                                                                  Man                                                      1\n",
       "                                  Hispanic or Latino/a/x;White or of European descent                                                                                                                                                                                          Woman                                                    1\n",
       "                                  Hispanic or Latino/a/x                                                                                                                                                                                                                       Woman                                                    1\n",
       "                                  East Asian;White or of European descent                                                                                                                                                                                                      Man                                                      1\n",
       "                                  East Asian                                                                                                                                                                                                                                   Woman                                                    1\n",
       "                                                                                                                                                                                                                                                                               Man                                                      1\n",
       "                                  Black or of African descent;White or of European descent                                                                                                                                                                                     Man                                                      1\n",
       "                                  Black or of African descent;Middle Eastern                                                                                                                                                                                                   Man                                                      1\n",
       "                                  Black or of African descent;Hispanic or Latino/a/x;White or of European descent;Biracial;Multiracial                                                                                                                                         Man                                                      1\n",
       "                                  Black or of African descent;East Asian;Hispanic or Latino/a/x;Middle Eastern;White or of European descent;Biracial;Indigenous (such as Native American, Pacific Islander, or Indigenous Australian);South Asian;Multiracial;Southeast Asian  Man                                                      1\n",
       "Japan                             Black or of African descent;Hispanic or Latino/a/x;White or of European descent                                                                                                                                                              Man                                                      1\n",
       "                                  Black or of African descent;Middle Eastern;White or of European descent;Biracial                                                                                                                                                             Woman                                                    1\n",
       "                                  Black or of African descent;White or of European descent;Multiracial                                                                                                                                                                         Man                                                      1\n",
       "                                  Hispanic or Latino/a/x;White or of European descent;Multiracial                                                                                                                                                                              Man                                                      1\n",
       "                                  Southeast Asian                                                                                                                                                                                                                              Man;Non-binary, genderqueer, or gender non-conforming    1\n",
       "                                  South Asian;Southeast Asian                                                                                                                                                                                                                  Man                                                      1\n",
       "                                  South Asian                                                                                                                                                                                                                                  Woman                                                    1\n",
       "                                                                                                                                                                                                                                                                               Non-binary, genderqueer, or gender non-conforming        1\n",
       "                                  Multiracial                                                                                                                                                                                                                                  Woman                                                    1\n",
       "                                  Middle Eastern;White or of European descent;Multiracial                                                                                                                                                                                      Man                                                      1\n",
       "                                  Indigenous (such as Native American, Pacific Islander, or Indigenous Australian);South Asian                                                                                                                                                 Man                                                      1\n",
       "                                  Hispanic or Latino/a/x;White or of European descent;Indigenous (such as Native American, Pacific Islander, or Indigenous Australian);Multiracial                                                                                             Woman                                                    1\n",
       "                                  East Asian;Hispanic or Latino/a/x                                                                                                                                                                                                            Man                                                      1\n",
       "                                  Hispanic or Latino/a/x;White or of European descent;Biracial;Multiracial                                                                                                                                                                     Man                                                      1\n",
       "                                  Hispanic or Latino/a/x;White or of European descent                                                                                                                                                                                          Man                                                      1\n",
       "                                  Hispanic or Latino/a/x;Biracial;Southeast Asian                                                                                                                                                                                              Man                                                      1\n",
       "                                  East Asian;White or of European descent;Multiracial                                                                                                                                                                                          Man                                                      1\n",
       "                                  East Asian;White or of European descent;Biracial                                                                                                                                                                                             Man                                                      1\n",
       "                                  East Asian;Southeast Asian                                                                                                                                                                                                                   Woman                                                    1\n",
       "                                  East Asian;Multiracial                                                                                                                                                                                                                       Man                                                      1\n",
       "Malaysia                          East Asian;South Asian                                                                                                                                                                                                                       Man                                                      1\n",
       "dtype: int64"
      ]
     },
     "execution_count": 53,
     "metadata": {},
     "output_type": "execute_result"
    }
   ],
   "source": [
    "df[['Country', 'Ethnicity', 'Gender']].value_counts().tail(50)"
   ]
  },
  {
   "cell_type": "markdown",
   "metadata": {},
   "source": [
    "#### Check nulls quality"
   ]
  },
  {
   "cell_type": "code",
   "execution_count": 39,
   "metadata": {},
   "outputs": [
    {
     "data": {
      "text/plain": [
       "0.2871969097593894"
      ]
     },
     "execution_count": 39,
     "metadata": {},
     "output_type": "execute_result"
    }
   ],
   "source": [
    "np.sum(df['Ethnicity'].isnull())/df.shape[0]"
   ]
  },
  {
   "cell_type": "code",
   "execution_count": 40,
   "metadata": {},
   "outputs": [
    {
     "data": {
      "text/plain": [
       "0.21569631249903043"
      ]
     },
     "execution_count": 40,
     "metadata": {},
     "output_type": "execute_result"
    }
   ],
   "source": [
    "np.sum(df['Gender'].isnull())/df.shape[0]"
   ]
  },
  {
   "cell_type": "code",
   "execution_count": 43,
   "metadata": {},
   "outputs": [],
   "source": [
    "# Remove nulls in the mains colununs \n",
    "df_dropnan = df.dropna(subset=['Ethnicity','Gender'])"
   ]
  },
  {
   "cell_type": "markdown",
   "metadata": {},
   "source": [
    "## % of White  Man respondents "
   ]
  },
  {
   "cell_type": "code",
   "execution_count": 61,
   "metadata": {},
   "outputs": [
    {
     "data": {
      "text/plain": [
       "0.627027264925291"
      ]
     },
     "execution_count": 61,
     "metadata": {},
     "output_type": "execute_result"
    }
   ],
   "source": [
    "df_dropnan[(df_dropnan['Ethnicity'].str.contains(\"White\")  &  df_dropnan['Gender'].str.contains(\"Man\"))].shape[0]/df_dropnan.shape[0]"
   ]
  },
  {
   "cell_type": "code",
   "execution_count": 63,
   "metadata": {},
   "outputs": [],
   "source": [
    "# Not White Man respondents \n",
    "df_minority = df_dropnan[~(df_dropnan['Ethnicity'].str.contains(\"White\")  &  df_dropnan['Gender'].str.contains(\"Man\"))]"
   ]
  },
  {
   "cell_type": "code",
   "execution_count": 78,
   "metadata": {},
   "outputs": [
    {
     "data": {
      "text/plain": [
       "Ethnicity                                                                         Gender                                                 \n",
       "South Asian                                                                       Man                                                        4126\n",
       "White or of European descent                                                      Woman                                                      2104\n",
       "Hispanic or Latino/a/x                                                            Man                                                        2061\n",
       "Southeast Asian                                                                   Man                                                        1496\n",
       "Black or of African descent                                                       Man                                                        1480\n",
       "Middle Eastern                                                                    Man                                                        1456\n",
       "East Asian                                                                        Man                                                        1443\n",
       "Multiracial                                                                       Man                                                         253\n",
       "South Asian                                                                       Woman                                                       242\n",
       "White or of European descent                                                      Non-binary, genderqueer, or gender non-conforming           239\n",
       "East Asian                                                                        Woman                                                       177\n",
       "Black or of African descent                                                       Woman                                                       174\n",
       "Hispanic or Latino/a/x                                                            Woman                                                       162\n",
       "Southeast Asian                                                                   Woman                                                       142\n",
       "Middle Eastern                                                                    Woman                                                       129\n",
       "Biracial                                                                          Man                                                         122\n",
       "South Asian;Southeast Asian                                                       Man                                                          76\n",
       "White or of European descent                                                      Woman;Non-binary, genderqueer, or gender non-conforming      61\n",
       "East Asian;Southeast Asian                                                        Man                                                          59\n",
       "Hispanic or Latino/a/x;White or of European descent                               Woman                                                        50\n",
       "Indigenous (such as Native American, Pacific Islander, or Indigenous Australian)  Man                                                          50\n",
       "East Asian;South Asian                                                            Man                                                          48\n",
       "Hispanic or Latino/a/x;Multiracial                                                Man                                                          47\n",
       "Black or of African descent;Hispanic or Latino/a/x                                Man                                                          39\n",
       "Black or of African descent;Middle Eastern                                        Man                                                          23\n",
       "Multiracial                                                                       Woman                                                        22\n",
       "Hispanic or Latino/a/x;Biracial                                                   Man                                                          21\n",
       "Middle Eastern;White or of European descent                                       Woman                                                        21\n",
       "East Asian;Middle Eastern                                                         Man                                                          21\n",
       "Biracial                                                                          Woman                                                        20\n",
       "Name: Respondent, dtype: int64"
      ]
     },
     "execution_count": 78,
     "metadata": {},
     "output_type": "execute_result"
    }
   ],
   "source": [
    "df_minority.groupby(['Ethnicity', 'Gender']).Respondent.count().sort_values(ascending=False).head(30)"
   ]
  }
 ],
 "metadata": {
  "interpreter": {
   "hash": "31f2aee4e71d21fbe5cf8b01ff0e069b9275f58929596ceb00d14d90e3e16cd6"
  },
  "kernelspec": {
   "display_name": "Python 3",
   "language": "python",
   "name": "python3"
  },
  "language_info": {
   "codemirror_mode": {
    "name": "ipython",
    "version": 3
   },
   "file_extension": ".py",
   "mimetype": "text/x-python",
   "name": "python",
   "nbconvert_exporter": "python",
   "pygments_lexer": "ipython3",
   "version": "3.8.8"
  }
 },
 "nbformat": 4,
 "nbformat_minor": 4
}
